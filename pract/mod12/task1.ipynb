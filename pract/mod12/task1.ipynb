{
 "cells": [
  {
   "cell_type": "markdown",
   "metadata": {},
   "source": [
    "1.\tНормализовать базу данных относительно актеров. Выделить таблицу с актерами, а также таблицу многие-ко-многим `актер-фильм`. (Т.е. будут 3 таблицы: актеры, фильмы, актер-фильм). Сохранить новую бд как ‘task1.sqlite’."
   ]
  },
  {
   "cell_type": "code",
   "execution_count": 1,
   "metadata": {},
   "outputs": [],
   "source": [
    "import sqlite3\n",
    "\n",
    "\n",
    "# ПОДКЛЮЧЕНИЕ К БД\n",
    "# Подключаемся к исходной базе данных\n",
    "start_db_connection = sqlite3.connect('netflix.sqlite')\n",
    "start_db_cursor = start_db_connection.cursor()\n",
    "\n",
    "# Создаем новую базу данных для задачи\n",
    "task1_conn = sqlite3.connect('task1.sqlite')\n",
    "task1_cursor = task1_conn.cursor()\n",
    "\n"
   ]
  },
  {
   "cell_type": "markdown",
   "metadata": {},
   "source": [
    "СОЗДАНИЕ ТАБЛИЦ"
   ]
  },
  {
   "cell_type": "code",
   "execution_count": 2,
   "metadata": {},
   "outputs": [
    {
     "ename": "OperationalError",
     "evalue": "table actors already exists",
     "output_type": "error",
     "traceback": [
      "\u001b[1;31m---------------------------------------------------------------------------\u001b[0m",
      "\u001b[1;31mOperationalError\u001b[0m                          Traceback (most recent call last)",
      "\u001b[1;32mc:\\Users\\Neko-sama\\Desktop\\Python\\pract\\mod12\\task1.ipynb Cell 4\u001b[0m line \u001b[0;36m2\n\u001b[0;32m      <a href='vscode-notebook-cell:/c%3A/Users/Neko-sama/Desktop/Python/pract/mod12/task1.ipynb#W3sZmlsZQ%3D%3D?line=0'>1</a>\u001b[0m \u001b[39m# Таблица актеры\u001b[39;00m\n\u001b[1;32m----> <a href='vscode-notebook-cell:/c%3A/Users/Neko-sama/Desktop/Python/pract/mod12/task1.ipynb#W3sZmlsZQ%3D%3D?line=1'>2</a>\u001b[0m task1_cursor\u001b[39m.\u001b[39;49mexecute(\u001b[39m'''\u001b[39;49m\n\u001b[0;32m      <a href='vscode-notebook-cell:/c%3A/Users/Neko-sama/Desktop/Python/pract/mod12/task1.ipynb#W3sZmlsZQ%3D%3D?line=2'>3</a>\u001b[0m \u001b[39m    CREATE TABLE actors (\u001b[39;49m\n\u001b[0;32m      <a href='vscode-notebook-cell:/c%3A/Users/Neko-sama/Desktop/Python/pract/mod12/task1.ipynb#W3sZmlsZQ%3D%3D?line=3'>4</a>\u001b[0m \u001b[39m        actor_id INTEGER PRIMARY KEY,\u001b[39;49m\n\u001b[0;32m      <a href='vscode-notebook-cell:/c%3A/Users/Neko-sama/Desktop/Python/pract/mod12/task1.ipynb#W3sZmlsZQ%3D%3D?line=4'>5</a>\u001b[0m \u001b[39m        actor_name TEXT UNIQUE\u001b[39;49m\n\u001b[0;32m      <a href='vscode-notebook-cell:/c%3A/Users/Neko-sama/Desktop/Python/pract/mod12/task1.ipynb#W3sZmlsZQ%3D%3D?line=5'>6</a>\u001b[0m \u001b[39m    )\u001b[39;49m\n\u001b[0;32m      <a href='vscode-notebook-cell:/c%3A/Users/Neko-sama/Desktop/Python/pract/mod12/task1.ipynb#W3sZmlsZQ%3D%3D?line=6'>7</a>\u001b[0m \u001b[39m'''\u001b[39;49m)\n\u001b[0;32m      <a href='vscode-notebook-cell:/c%3A/Users/Neko-sama/Desktop/Python/pract/mod12/task1.ipynb#W3sZmlsZQ%3D%3D?line=7'>8</a>\u001b[0m \u001b[39m# Добавил UNIQUE в столбец actor_name, что б уже на этом\u001b[39;00m\n\u001b[0;32m      <a href='vscode-notebook-cell:/c%3A/Users/Neko-sama/Desktop/Python/pract/mod12/task1.ipynb#W3sZmlsZQ%3D%3D?line=8'>9</a>\u001b[0m \u001b[39m# этапе исключить повторение актёров\u001b[39;00m\n",
      "\u001b[1;31mOperationalError\u001b[0m: table actors already exists"
     ]
    }
   ],
   "source": [
    "# Таблица актеры\n",
    "task1_cursor.execute('''\n",
    "    CREATE TABLE actors (\n",
    "        actor_id INTEGER PRIMARY KEY,\n",
    "        actor_name TEXT UNIQUE\n",
    "    )\n",
    "''')\n",
    "# Добавил UNIQUE в столбец actor_name, что б уже на этом\n",
    "# этапе исключить повторение актёров"
   ]
  },
  {
   "cell_type": "code",
   "execution_count": null,
   "metadata": {},
   "outputs": [
    {
     "data": {
      "text/plain": [
       "<sqlite3.Cursor at 0x26a012464c0>"
      ]
     },
     "execution_count": 11,
     "metadata": {},
     "output_type": "execute_result"
    }
   ],
   "source": [
    "# Создаем таблицу фильмы\n",
    "task1_cursor.execute('''\n",
    "    CREATE TABLE movies (\n",
    "        movie_id INTEGER PRIMARY KEY,\n",
    "        title TEXT,\n",
    "        director TEXT,\n",
    "        cast TEXT,\n",
    "        country TEXT,\n",
    "        date_added TEXT,\n",
    "        release_year INTEGER,\n",
    "        rating TEXT,\n",
    "        duration TEXT,\n",
    "        listed_in TEXT,\n",
    "        description TEXT\n",
    "    )\n",
    "''')\n",
    "# Т.к. изначальные айди фильмов роли в задании не играют, я, для удобства, от них избавился, заменив на свои"
   ]
  },
  {
   "cell_type": "code",
   "execution_count": null,
   "metadata": {},
   "outputs": [
    {
     "data": {
      "text/plain": [
       "<sqlite3.Cursor at 0x26a012464c0>"
      ]
     },
     "execution_count": 12,
     "metadata": {},
     "output_type": "execute_result"
    }
   ],
   "source": [
    "# Создаем таблицу актер-фильм\n",
    "task1_cursor.execute('''\n",
    "    CREATE TABLE actor_movie (\n",
    "        actor_id INTEGER,\n",
    "        movie_id INTEGER,\n",
    "        FOREIGN KEY (actor_id) REFERENCES actors (actor_id),\n",
    "        FOREIGN KEY (movie_id) REFERENCES movies (movie_id),\n",
    "        PRIMARY KEY (actor_id, movie_id)\n",
    "    )\n",
    "''')"
   ]
  },
  {
   "cell_type": "markdown",
   "metadata": {},
   "source": [
    "ЗАПОЛНЯЕМ ТАБЛИЦЫ"
   ]
  },
  {
   "cell_type": "code",
   "execution_count": null,
   "metadata": {},
   "outputs": [],
   "source": [
    "# Копируем данные из исходной таблицы в новые\n",
    "start_db_cursor.execute('SELECT * FROM netflix_titles')\n",
    "for data_of_movie in start_db_cursor.fetchall():\n",
    "\n",
    "    # Добавляем актеров в таблицу актеры\n",
    "    cast = data_of_movie[4]  # Столбец 4 - 'cast' в netflix_titles, т.е. таблица со строкой из актёров фильма\n",
    "    if cast:\n",
    "        actors = [actor.strip() for actor in cast.split(',')]\n",
    "        for actor in actors:\n",
    "            task1_cursor.execute('INSERT OR IGNORE INTO actors (actor_name) VALUES (?)', (actor,))  # IGNORE INTO как раз для избежания повторений актёров\n",
    "\n",
    "    # Добавляем фильмы в таблицу фильмы\n",
    "    movie_data = data_of_movie[2:12]  # Индексы со 2 по 11 соответствуют столбцам от title до description\n",
    "    task1_cursor.execute('INSERT INTO movies VALUES (NULL,?,?,?,?,?,?,?,?,?,?)', movie_data)\n",
    "\n",
    "    # Добавляем связи актер-фильм\n",
    "    movie_id = task1_cursor.lastrowid\n",
    "    for actor in actors:\n",
    "        actor_id_query = task1_cursor.execute('SELECT actor_id FROM actors WHERE actor_name=?', (actor,))\n",
    "        actor_id = actor_id_query.fetchone()[0]\n",
    "        task1_cursor.execute('INSERT OR IGNORE INTO actor_movie VALUES (?, ?)', (actor_id, movie_id))\n"
   ]
  },
  {
   "cell_type": "code",
   "execution_count": null,
   "metadata": {},
   "outputs": [],
   "source": [
    "# Сохраняем изменения и закрываем соединения\n",
    "task1_conn.commit()\n",
    "start_db_connection.close()\n",
    "task1_conn.close()"
   ]
  },
  {
   "cell_type": "markdown",
   "metadata": {},
   "source": [
    "2.\tИсходя из этой таблицы, средствами SQL, вычислить наиболее часто работающую друг с другом пару актеров."
   ]
  },
  {
   "cell_type": "code",
   "execution_count": null,
   "metadata": {},
   "outputs": [],
   "source": [
    "import sqlite3"
   ]
  },
  {
   "cell_type": "code",
   "execution_count": null,
   "metadata": {},
   "outputs": [],
   "source": [
    "# Подключение к БД\n",
    "t1_p2_connection = sqlite3.connect('task1.sqlite')\n",
    "t1_p2_cursor = t1_p2_connection.cursor()"
   ]
  },
  {
   "cell_type": "code",
   "execution_count": null,
   "metadata": {},
   "outputs": [
    {
     "name": "stdout",
     "output_type": "stream",
     "text": [
      "Наиболее часто работающая друг с другом пара актеров: Eric Idle с John Cleese, что совместно участовали в 17 фильмах.\n"
     ]
    }
   ],
   "source": [
    "# Находим наиболее часто встречающуюся пару актеров\n",
    "query = '''\n",
    "    SELECT a1.actor_name, a2.actor_name, COUNT(*) as movies_together\n",
    "    FROM actor_movie am1\n",
    "    JOIN actor_movie am2 ON am1.movie_id = am2.movie_id AND am1.actor_id < am2.actor_id\n",
    "    JOIN actors a1 ON am1.actor_id = a1.actor_id\n",
    "    JOIN actors a2 ON am2.actor_id = a2.actor_id\n",
    "    GROUP BY a1.actor_name, a2.actor_name\n",
    "    ORDER BY movies_together DESC\n",
    "    LIMIT 1\n",
    "'''\n",
    "\n",
    "t1_p2_cursor.execute(query)\n",
    "result = t1_p2_cursor.fetchone()\n",
    "\n",
    "if result:\n",
    "    actor1, actor2, movies_together = result\n",
    "    print(f\"Наиболее часто работающая друг с другом пара актеров: {actor1} с {actor2}, что совместно участовали в {movies_together} фильмах.\")\n",
    "else:\n",
    "    print(\"Нет данных.\")\n"
   ]
  },
  {
   "cell_type": "code",
   "execution_count": null,
   "metadata": {},
   "outputs": [],
   "source": [
    "# Закрываем соединение\n",
    "t1_p2_connection.close()"
   ]
  }
 ],
 "metadata": {
  "kernelspec": {
   "display_name": "Python 3",
   "language": "python",
   "name": "python3"
  },
  "language_info": {
   "codemirror_mode": {
    "name": "ipython",
    "version": 3
   },
   "file_extension": ".py",
   "mimetype": "text/x-python",
   "name": "python",
   "nbconvert_exporter": "python",
   "pygments_lexer": "ipython3",
   "version": "3.11.5"
  }
 },
 "nbformat": 4,
 "nbformat_minor": 2
}
